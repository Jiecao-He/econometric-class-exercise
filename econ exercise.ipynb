{
 "cells": [
  {
   "cell_type": "code",
   "execution_count": 1,
   "metadata": {
    "collapsed": true
   },
   "outputs": [],
   "source": [
    "import pandas as pd\n",
    "import numpy as np\n",
    "import matplotlib.pyplot as plt\n",
    "import statsmodels.tsa.api as sm\n",
    "\n",
    "# 以上是這次過程中需要的package"
   ]
  },
  {
   "cell_type": "code",
   "execution_count": 2,
   "metadata": {
    "collapsed": false
   },
   "outputs": [],
   "source": [
    "cur = pd.read_csv(\"D:/currencynew.csv\")  "
   ]
  },
  {
   "cell_type": "code",
   "execution_count": 3,
   "metadata": {
    "collapsed": false
   },
   "outputs": [
    {
     "data": {
      "text/html": [
       "<div>\n",
       "<table border=\"1\" class=\"dataframe\">\n",
       "  <thead>\n",
       "    <tr style=\"text-align: right;\">\n",
       "      <th></th>\n",
       "      <th>Date</th>\n",
       "      <th>EUR</th>\n",
       "      <th>GBP</th>\n",
       "      <th>JPY</th>\n",
       "      <th>reur</th>\n",
       "      <th>rgbp</th>\n",
       "      <th>rjpy</th>\n",
       "    </tr>\n",
       "  </thead>\n",
       "  <tbody>\n",
       "    <tr>\n",
       "      <th>0</th>\n",
       "      <td>7-Jul-02</td>\n",
       "      <td>1.0274</td>\n",
       "      <td>0.6575</td>\n",
       "      <td>120.21</td>\n",
       "      <td>NaN</td>\n",
       "      <td>NaN</td>\n",
       "      <td>NaN</td>\n",
       "    </tr>\n",
       "    <tr>\n",
       "      <th>1</th>\n",
       "      <td>8-Jul-02</td>\n",
       "      <td>1.0261</td>\n",
       "      <td>0.6570</td>\n",
       "      <td>120.04</td>\n",
       "      <td>-0.126613</td>\n",
       "      <td>-0.076075</td>\n",
       "      <td>-0.141519</td>\n",
       "    </tr>\n",
       "    <tr>\n",
       "      <th>2</th>\n",
       "      <td>9-Jul-02</td>\n",
       "      <td>1.0096</td>\n",
       "      <td>0.6474</td>\n",
       "      <td>118.40</td>\n",
       "      <td>-1.621099</td>\n",
       "      <td>-1.471968</td>\n",
       "      <td>-1.375630</td>\n",
       "    </tr>\n",
       "    <tr>\n",
       "      <th>3</th>\n",
       "      <td>10-Jul-02</td>\n",
       "      <td>1.0065</td>\n",
       "      <td>0.6457</td>\n",
       "      <td>118.06</td>\n",
       "      <td>-0.307525</td>\n",
       "      <td>-0.262934</td>\n",
       "      <td>-0.287575</td>\n",
       "    </tr>\n",
       "    <tr>\n",
       "      <th>4</th>\n",
       "      <td>11-Jul-02</td>\n",
       "      <td>1.0119</td>\n",
       "      <td>0.6463</td>\n",
       "      <td>117.69</td>\n",
       "      <td>0.535079</td>\n",
       "      <td>0.092879</td>\n",
       "      <td>-0.313892</td>\n",
       "    </tr>\n",
       "  </tbody>\n",
       "</table>\n",
       "</div>"
      ],
      "text/plain": [
       "        Date     EUR     GBP     JPY      reur      rgbp      rjpy\n",
       "0   7-Jul-02  1.0274  0.6575  120.21       NaN       NaN       NaN\n",
       "1   8-Jul-02  1.0261  0.6570  120.04 -0.126613 -0.076075 -0.141519\n",
       "2   9-Jul-02  1.0096  0.6474  118.40 -1.621099 -1.471968 -1.375630\n",
       "3  10-Jul-02  1.0065  0.6457  118.06 -0.307525 -0.262934 -0.287575\n",
       "4  11-Jul-02  1.0119  0.6463  117.69  0.535079  0.092879 -0.313892"
      ]
     },
     "execution_count": 3,
     "metadata": {},
     "output_type": "execute_result"
    }
   ],
   "source": [
    "cur.head()    \n",
    "\n",
    "# 透過 head 這個 method ,我們可以呼叫cur的前一小部分出來確認讀入內容是否是我們要的樣子\n",
    "#但又不像直接呼叫cur一樣跑出一長串列表,干擾我們閱讀\n",
    "#現在我們看到檔案如同我們所要的樣子被讀入了,但我們不想要第一行,也就是Date那行,醜醜的"
   ]
  },
  {
   "cell_type": "code",
   "execution_count": 4,
   "metadata": {
    "collapsed": false
   },
   "outputs": [
    {
     "name": "stdout",
     "output_type": "stream",
     "text": [
      "(3988, 6)\n"
     ]
    },
    {
     "data": {
      "text/html": [
       "<div>\n",
       "<table border=\"1\" class=\"dataframe\">\n",
       "  <thead>\n",
       "    <tr style=\"text-align: right;\">\n",
       "      <th></th>\n",
       "      <th>EUR</th>\n",
       "      <th>GBP</th>\n",
       "      <th>JPY</th>\n",
       "      <th>reur</th>\n",
       "      <th>rgbp</th>\n",
       "      <th>rjpy</th>\n",
       "    </tr>\n",
       "  </thead>\n",
       "  <tbody>\n",
       "    <tr>\n",
       "      <th>0</th>\n",
       "      <td>1.0274</td>\n",
       "      <td>0.6575</td>\n",
       "      <td>120.21</td>\n",
       "      <td>NaN</td>\n",
       "      <td>NaN</td>\n",
       "      <td>NaN</td>\n",
       "    </tr>\n",
       "    <tr>\n",
       "      <th>1</th>\n",
       "      <td>1.0261</td>\n",
       "      <td>0.6570</td>\n",
       "      <td>120.04</td>\n",
       "      <td>-0.126613</td>\n",
       "      <td>-0.076075</td>\n",
       "      <td>-0.141519</td>\n",
       "    </tr>\n",
       "    <tr>\n",
       "      <th>2</th>\n",
       "      <td>1.0096</td>\n",
       "      <td>0.6474</td>\n",
       "      <td>118.40</td>\n",
       "      <td>-1.621099</td>\n",
       "      <td>-1.471968</td>\n",
       "      <td>-1.375630</td>\n",
       "    </tr>\n",
       "    <tr>\n",
       "      <th>3</th>\n",
       "      <td>1.0065</td>\n",
       "      <td>0.6457</td>\n",
       "      <td>118.06</td>\n",
       "      <td>-0.307525</td>\n",
       "      <td>-0.262934</td>\n",
       "      <td>-0.287575</td>\n",
       "    </tr>\n",
       "    <tr>\n",
       "      <th>4</th>\n",
       "      <td>1.0119</td>\n",
       "      <td>0.6463</td>\n",
       "      <td>117.69</td>\n",
       "      <td>0.535079</td>\n",
       "      <td>0.092879</td>\n",
       "      <td>-0.313892</td>\n",
       "    </tr>\n",
       "  </tbody>\n",
       "</table>\n",
       "</div>"
      ],
      "text/plain": [
       "      EUR     GBP     JPY      reur      rgbp      rjpy\n",
       "0  1.0274  0.6575  120.21       NaN       NaN       NaN\n",
       "1  1.0261  0.6570  120.04 -0.126613 -0.076075 -0.141519\n",
       "2  1.0096  0.6474  118.40 -1.621099 -1.471968 -1.375630\n",
       "3  1.0065  0.6457  118.06 -0.307525 -0.262934 -0.287575\n",
       "4  1.0119  0.6463  117.69  0.535079  0.092879 -0.313892"
      ]
     },
     "execution_count": 4,
     "metadata": {},
     "output_type": "execute_result"
    }
   ],
   "source": [
    "cur = cur.drop('Date',axis = 1)   \n",
    "\n",
    "# 所以我們來把 Date 那一行給去掉,但因為drop這個方法默認是刪掉列\n",
    "#所以我們要把方法中設定的 axis = 0\n",
    "# 也就是默認是'橫軸', 改成 axis = 1 這樣他就知道我們要操作的方式是在縱軸上 的 'Date' 這一行\n",
    "# 這樣我們就能看到 Date 這一行被我去掉了,接下因為我們的資料是時間序列,所以我們要把 index\n",
    "# 從 0.1.2.3.4.....1826 通通改成時間,這樣再後續的 VAR model 裡他才能順利做各式檢定\n",
    "        \n",
    "print(np.shape(cur))\n",
    "cur.head()"
   ]
  },
  {
   "cell_type": "code",
   "execution_count": 7,
   "metadata": {
    "collapsed": false
   },
   "outputs": [
    {
     "data": {
      "text/plain": [
       "DatetimeIndex(['2002-07-07', '2002-07-08', '2002-07-09', '2002-07-10',\n",
       "               '2002-07-11', '2002-07-12', '2002-07-13', '2002-07-14',\n",
       "               '2002-07-15', '2002-07-16',\n",
       "               ...\n",
       "               '2013-05-28', '2013-05-29', '2013-05-30', '2013-05-31',\n",
       "               '2013-06-01', '2013-06-02', '2013-06-03', '2013-06-04',\n",
       "               '2013-06-05', '2013-06-06'],\n",
       "              dtype='datetime64[ns]', length=3988, freq='D')"
      ]
     },
     "execution_count": 7,
     "metadata": {},
     "output_type": "execute_result"
    }
   ],
   "source": [
    "date = pd.date_range('2002-7-7','2013-6-6')  \n",
    "\n",
    "# 首先我們先生成我們所需要的時間長度,我就直接從excel裡的檔案看是幾月幾號到幾月幾號\n",
    "# 附帶一提,為什麼一開始不直接把 Date 那一行資料設定為 index呢? 這樣就不用重新再造\n",
    "# 一個時間去當index了, 主要是因為直接指定Date那一行作為index ,在dataframe裡好像\n",
    "# 不會認為他是真正的 timeindex ,而是認為他是一串 string 做成的 index\n",
    "# 這樣在後續的VAR model裡分析會出現錯誤,所以只好笨笨的重新建構一個可用dataframe\n",
    "# 如果我有找到解決的辦法再通知大家\n",
    "\n",
    "date               "
   ]
  },
  {
   "cell_type": "code",
   "execution_count": 8,
   "metadata": {
    "collapsed": false
   },
   "outputs": [],
   "source": [
    "cur_values = cur.values # 首先我們把原本資料中的值都取出來方便我們等等去構造一個新的 dataframe"
   ]
  },
  {
   "cell_type": "code",
   "execution_count": 9,
   "metadata": {
    "collapsed": false
   },
   "outputs": [],
   "source": [
    "cur = pd.DataFrame(cur_values,index = date,columns = ['EUR','GBP','JPY','reur','rgbp','rjpy'])\n",
    "\n",
    "# 這部分是要求pandas創建一個 dataframe\n",
    "# 數據部分就是我們剛剛取出來的cur_values\n",
    "# index 是我們創出來 date\n",
    "# 每一行的header分別是['EUR','GBP','JPY','reur','rgbp','rjpy']\n",
    "# 到此步我們大致整理好所需要的原始資料了"
   ]
  },
  {
   "cell_type": "code",
   "execution_count": 12,
   "metadata": {
    "collapsed": false
   },
   "outputs": [
    {
     "name": "stdout",
     "output_type": "stream",
     "text": [
      "(3988, 6)\n"
     ]
    },
    {
     "data": {
      "text/html": [
       "<div>\n",
       "<table border=\"1\" class=\"dataframe\">\n",
       "  <thead>\n",
       "    <tr style=\"text-align: right;\">\n",
       "      <th></th>\n",
       "      <th>EUR</th>\n",
       "      <th>GBP</th>\n",
       "      <th>JPY</th>\n",
       "      <th>reur</th>\n",
       "      <th>rgbp</th>\n",
       "      <th>rjpy</th>\n",
       "    </tr>\n",
       "  </thead>\n",
       "  <tbody>\n",
       "    <tr>\n",
       "      <th>2002-07-07</th>\n",
       "      <td>1.0274</td>\n",
       "      <td>0.6575</td>\n",
       "      <td>120.21</td>\n",
       "      <td>NaN</td>\n",
       "      <td>NaN</td>\n",
       "      <td>NaN</td>\n",
       "    </tr>\n",
       "    <tr>\n",
       "      <th>2002-07-08</th>\n",
       "      <td>1.0261</td>\n",
       "      <td>0.6570</td>\n",
       "      <td>120.04</td>\n",
       "      <td>-0.126613</td>\n",
       "      <td>-0.076075</td>\n",
       "      <td>-0.141519</td>\n",
       "    </tr>\n",
       "    <tr>\n",
       "      <th>2002-07-09</th>\n",
       "      <td>1.0096</td>\n",
       "      <td>0.6474</td>\n",
       "      <td>118.40</td>\n",
       "      <td>-1.621099</td>\n",
       "      <td>-1.471968</td>\n",
       "      <td>-1.375630</td>\n",
       "    </tr>\n",
       "    <tr>\n",
       "      <th>2002-07-10</th>\n",
       "      <td>1.0065</td>\n",
       "      <td>0.6457</td>\n",
       "      <td>118.06</td>\n",
       "      <td>-0.307525</td>\n",
       "      <td>-0.262934</td>\n",
       "      <td>-0.287575</td>\n",
       "    </tr>\n",
       "    <tr>\n",
       "      <th>2002-07-11</th>\n",
       "      <td>1.0119</td>\n",
       "      <td>0.6463</td>\n",
       "      <td>117.69</td>\n",
       "      <td>0.535079</td>\n",
       "      <td>0.092879</td>\n",
       "      <td>-0.313892</td>\n",
       "    </tr>\n",
       "  </tbody>\n",
       "</table>\n",
       "</div>"
      ],
      "text/plain": [
       "               EUR     GBP     JPY      reur      rgbp      rjpy\n",
       "2002-07-07  1.0274  0.6575  120.21       NaN       NaN       NaN\n",
       "2002-07-08  1.0261  0.6570  120.04 -0.126613 -0.076075 -0.141519\n",
       "2002-07-09  1.0096  0.6474  118.40 -1.621099 -1.471968 -1.375630\n",
       "2002-07-10  1.0065  0.6457  118.06 -0.307525 -0.262934 -0.287575\n",
       "2002-07-11  1.0119  0.6463  117.69  0.535079  0.092879 -0.313892"
      ]
     },
     "execution_count": 12,
     "metadata": {},
     "output_type": "execute_result"
    }
   ],
   "source": [
    "print(np.shape(cur))        \n",
    "\n",
    "# 確認一下資料有沒有問題,看起來一切都好,index也確實變成 timeindex 了\n",
    "cur.head()"
   ]
  },
  {
   "cell_type": "code",
   "execution_count": 15,
   "metadata": {
    "collapsed": false
   },
   "outputs": [
    {
     "data": {
      "text/html": [
       "<div>\n",
       "<table border=\"1\" class=\"dataframe\">\n",
       "  <thead>\n",
       "    <tr style=\"text-align: right;\">\n",
       "      <th></th>\n",
       "      <th>reur</th>\n",
       "      <th>rgbp</th>\n",
       "      <th>rjpy</th>\n",
       "    </tr>\n",
       "  </thead>\n",
       "  <tbody>\n",
       "    <tr>\n",
       "      <th>2002-07-07</th>\n",
       "      <td>NaN</td>\n",
       "      <td>NaN</td>\n",
       "      <td>NaN</td>\n",
       "    </tr>\n",
       "    <tr>\n",
       "      <th>2002-07-08</th>\n",
       "      <td>-0.126613</td>\n",
       "      <td>-0.076075</td>\n",
       "      <td>-0.141519</td>\n",
       "    </tr>\n",
       "    <tr>\n",
       "      <th>2002-07-09</th>\n",
       "      <td>-1.621099</td>\n",
       "      <td>-1.471968</td>\n",
       "      <td>-1.375630</td>\n",
       "    </tr>\n",
       "    <tr>\n",
       "      <th>2002-07-10</th>\n",
       "      <td>-0.307525</td>\n",
       "      <td>-0.262934</td>\n",
       "      <td>-0.287575</td>\n",
       "    </tr>\n",
       "    <tr>\n",
       "      <th>2002-07-11</th>\n",
       "      <td>0.535079</td>\n",
       "      <td>0.092879</td>\n",
       "      <td>-0.313892</td>\n",
       "    </tr>\n",
       "  </tbody>\n",
       "</table>\n",
       "</div>"
      ],
      "text/plain": [
       "                reur      rgbp      rjpy\n",
       "2002-07-07       NaN       NaN       NaN\n",
       "2002-07-08 -0.126613 -0.076075 -0.141519\n",
       "2002-07-09 -1.621099 -1.471968 -1.375630\n",
       "2002-07-10 -0.307525 -0.262934 -0.287575\n",
       "2002-07-11  0.535079  0.092879 -0.313892"
      ]
     },
     "execution_count": 15,
     "metadata": {},
     "output_type": "execute_result"
    }
   ],
   "source": [
    "cur_return = cur[['reur','rgbp','rjpy']]\n",
    "\n",
    "#為了方便我們操作,我們將return獨立出來\n",
    "# cur[['reur','rgbp','rjpy']] 代表我們要這三行的資料,請注意有雙中括號\n",
    "# 因為是return,所以第一期為 NaN,我們要去掉NaN避免後面出現錯誤\n",
    "cur_return.head()"
   ]
  },
  {
   "cell_type": "code",
   "execution_count": 16,
   "metadata": {
    "collapsed": false
   },
   "outputs": [],
   "source": [
    "cur_return = cur_return.dropna()  # cut NaN"
   ]
  },
  {
   "cell_type": "code",
   "execution_count": 17,
   "metadata": {
    "collapsed": false
   },
   "outputs": [
    {
     "data": {
      "text/html": [
       "<div>\n",
       "<table border=\"1\" class=\"dataframe\">\n",
       "  <thead>\n",
       "    <tr style=\"text-align: right;\">\n",
       "      <th></th>\n",
       "      <th>reur</th>\n",
       "      <th>rgbp</th>\n",
       "      <th>rjpy</th>\n",
       "    </tr>\n",
       "  </thead>\n",
       "  <tbody>\n",
       "    <tr>\n",
       "      <th>2002-07-08</th>\n",
       "      <td>-0.126613</td>\n",
       "      <td>-0.076075</td>\n",
       "      <td>-0.141519</td>\n",
       "    </tr>\n",
       "    <tr>\n",
       "      <th>2002-07-09</th>\n",
       "      <td>-1.621099</td>\n",
       "      <td>-1.471968</td>\n",
       "      <td>-1.375630</td>\n",
       "    </tr>\n",
       "    <tr>\n",
       "      <th>2002-07-10</th>\n",
       "      <td>-0.307525</td>\n",
       "      <td>-0.262934</td>\n",
       "      <td>-0.287575</td>\n",
       "    </tr>\n",
       "    <tr>\n",
       "      <th>2002-07-11</th>\n",
       "      <td>0.535079</td>\n",
       "      <td>0.092879</td>\n",
       "      <td>-0.313892</td>\n",
       "    </tr>\n",
       "    <tr>\n",
       "      <th>2002-07-12</th>\n",
       "      <td>-0.049424</td>\n",
       "      <td>-0.465261</td>\n",
       "      <td>-0.605107</td>\n",
       "    </tr>\n",
       "  </tbody>\n",
       "</table>\n",
       "</div>"
      ],
      "text/plain": [
       "                reur      rgbp      rjpy\n",
       "2002-07-08 -0.126613 -0.076075 -0.141519\n",
       "2002-07-09 -1.621099 -1.471968 -1.375630\n",
       "2002-07-10 -0.307525 -0.262934 -0.287575\n",
       "2002-07-11  0.535079  0.092879 -0.313892\n",
       "2002-07-12 -0.049424 -0.465261 -0.605107"
      ]
     },
     "execution_count": 17,
     "metadata": {},
     "output_type": "execute_result"
    }
   ],
   "source": [
    "cur_return.head()   \n",
    "\n",
    "# 現在可以看到有NaN值的第一行被刪掉了,這個方法預設的刪法是只要該列有NaN就整列刪掉,但也可以透過\n",
    "# cur.head(how = 'all') 這樣指定以後,只有整列都為NaN的值才會被刪掉\n",
    "                                  \n",
    "# 到這裡基本上後續要分析的原始資料都處理好了~~可以開開心心來跑時間序列咯~~啾咪 (^ ︿ ^)"
   ]
  },
  {
   "cell_type": "code",
   "execution_count": 18,
   "metadata": {
    "collapsed": false
   },
   "outputs": [
    {
     "data": {
      "text/plain": [
       "(-3.1308537987758385,\n",
       " 0.024352539440466711,\n",
       " 1,\n",
       " 3986,\n",
       " {'1%': -3.4319916247463209,\n",
       "  '10%': -2.5671561276258172,\n",
       "  '5%': -2.8622653800145192},\n",
       " -33096.422978989853)"
      ]
     },
     "execution_count": 18,
     "metadata": {},
     "output_type": "execute_result"
    }
   ],
   "source": [
    "sm.stattools.adfuller(cur['EUR'])   \n",
    "\n",
    "#對 EUR的匯率直接做 Auto-Dicky-Fuller test , return 的值由上到下分別是 \n",
    "#(adf, pvalue, usedlag, nobs, critical values 其中nobs = number of observations"
   ]
  },
  {
   "cell_type": "code",
   "execution_count": 20,
   "metadata": {
    "collapsed": false
   },
   "outputs": [
    {
     "data": {
      "text/plain": [
       "(-54.12875220230881,\n",
       " 0.0,\n",
       " 0,\n",
       " 3986,\n",
       " {'1%': -3.4319916247463209,\n",
       "  '10%': -2.5671561276258172,\n",
       "  '5%': -2.8622653800145192},\n",
       " 5215.5107817714279)"
      ]
     },
     "execution_count": 20,
     "metadata": {},
     "output_type": "execute_result"
    }
   ],
   "source": [
    "sm.stattools.adfuller(cur_return['reur'])  \n",
    "\n",
    "#對 EUR的匯率的報酬率做 Auto-Dicky-Fuller test , return 的值由上到下分別是 \n",
    "#(adf, pvalue, usedlag, nobs, critical values 其中nobs = number of observations"
   ]
  },
  {
   "cell_type": "code",
   "execution_count": 21,
   "metadata": {
    "collapsed": false
   },
   "outputs": [],
   "source": [
    "model = sm.VAR(cur_return) \n",
    "\n",
    "# 接下來要把這些資料fit進VAR的model裡,聽老師說用報酬率做是為了stationary\n",
    "# 這部分需要記得上課內容的大大幫忙確認是否是用匯率的報酬率,感恩"
   ]
  },
  {
   "cell_type": "code",
   "execution_count": 22,
   "metadata": {
    "collapsed": false
   },
   "outputs": [
    {
     "name": "stdout",
     "output_type": "stream",
     "text": [
      "                 VAR Order Selection                  \n",
      "======================================================\n",
      "            aic          bic          fpe         hqic\n",
      "------------------------------------------------------\n",
      "0        -5.332       -5.327     0.004836       -5.330\n",
      "1        -5.460      -5.441*     0.004254       -5.453\n",
      "2       -5.468*       -5.435    0.004219*      -5.456*\n",
      "3        -5.466       -5.418     0.004230       -5.449\n",
      "4        -5.465       -5.403     0.004232       -5.443\n",
      "5        -5.465       -5.389     0.004234       -5.438\n",
      "6        -5.463       -5.373     0.004241       -5.431\n",
      "7        -5.463       -5.359     0.004241       -5.426\n",
      "8        -5.462       -5.344     0.004245       -5.420\n",
      "9        -5.460       -5.327     0.004254       -5.413\n",
      "10       -5.457       -5.310     0.004264       -5.405\n",
      "======================================================\n",
      "* Minimum\n",
      "\n"
     ]
    },
    {
     "data": {
      "text/plain": [
       "{'aic': 2, 'bic': 1, 'fpe': 2, 'hqic': 2}"
      ]
     },
     "execution_count": 22,
     "metadata": {},
     "output_type": "execute_result"
    }
   ],
   "source": [
    "model.select_order(10)      \n",
    "\n",
    "# 因為等等fit model 的時候,要選定我們所要用的最大lag項,所以先讓他跑一個\n",
    "# lag項從 0~10 各自的判斷標準是多少,從報表裡面看起來,選 p=2 看起來不錯\n",
    "                                       "
   ]
  },
  {
   "cell_type": "code",
   "execution_count": 23,
   "metadata": {
    "collapsed": false
   },
   "outputs": [],
   "source": [
    "results = model.fit(2)  # model.fit(p) p代表用來擬合的 lag項要用 p個     "
   ]
  },
  {
   "cell_type": "code",
   "execution_count": 24,
   "metadata": {
    "collapsed": false
   },
   "outputs": [
    {
     "data": {
      "text/plain": [
       "  Summary of Regression Results   \n",
       "==================================\n",
       "Model:                         VAR\n",
       "Method:                        OLS\n",
       "Date:           Sun, 18, Dec, 2016\n",
       "Time:                     01:37:30\n",
       "--------------------------------------------------------------------\n",
       "No. of Equations:         3.00000    BIC:                   -5.43680\n",
       "Nobs:                     3985.00    HQIC:                  -5.45819\n",
       "Log likelihood:          -6043.54    FPE:                 0.00421145\n",
       "AIC:                     -5.46995    Det(Omega_mle):      0.00418934\n",
       "--------------------------------------------------------------------\n",
       "Results for equation reur\n",
       "==========================================================================\n",
       "             coefficient       std. error           t-stat            prob\n",
       "--------------------------------------------------------------------------\n",
       "const          -0.005836         0.007453           -0.783           0.434\n",
       "L1.reur         0.200155         0.022708            8.814           0.000\n",
       "L1.rgbp        -0.061566         0.024107           -2.554           0.011\n",
       "L1.rjpy        -0.020151         0.016658           -1.210           0.226\n",
       "L2.reur        -0.033413         0.022619           -1.477           0.140\n",
       "L2.rgbp         0.024656         0.024079            1.024           0.306\n",
       "L2.rjpy         0.002628         0.016682            0.158           0.875\n",
       "==========================================================================\n",
       "\n",
       "Results for equation rgbp\n",
       "==========================================================================\n",
       "             coefficient       std. error           t-stat            prob\n",
       "--------------------------------------------------------------------------\n",
       "const           0.000045         0.006823            0.007           0.995\n",
       "L1.reur        -0.042777         0.020789           -2.058           0.040\n",
       "L1.rgbp         0.261643         0.022071           11.855           0.000\n",
       "L1.rjpy        -0.056639         0.015250           -3.714           0.000\n",
       "L2.reur         0.056771         0.020708            2.741           0.006\n",
       "L2.rgbp        -0.092099         0.022045           -4.178           0.000\n",
       "L2.rjpy         0.002964         0.015273            0.194           0.846\n",
       "==========================================================================\n",
       "\n",
       "Results for equation rjpy\n",
       "==========================================================================\n",
       "             coefficient       std. error           t-stat            prob\n",
       "--------------------------------------------------------------------------\n",
       "const          -0.003682         0.007387           -0.498           0.618\n",
       "L1.reur         0.024186         0.022507            1.075           0.283\n",
       "L1.rgbp        -0.067979         0.023895           -2.845           0.004\n",
       "L1.rjpy         0.150845         0.016511            9.136           0.000\n",
       "L2.reur        -0.031334         0.022419           -1.398           0.162\n",
       "L2.rgbp         0.032403         0.023867            1.358           0.175\n",
       "L2.rjpy         0.000718         0.016535            0.043           0.965\n",
       "==========================================================================\n",
       "\n",
       "Correlation matrix of residuals\n",
       "            reur      rgbp      rjpy\n",
       "reur    1.000000  0.699654  0.278622\n",
       "rgbp    0.699654  1.000000  0.168905\n",
       "rjpy    0.278622  0.168905  1.000000\n",
       "\n"
      ]
     },
     "execution_count": 24,
     "metadata": {},
     "output_type": "execute_result"
    }
   ],
   "source": [
    "results.summary()       # 把報表叫出來 ,報表內容有上課應該都看得懂,就不多解釋了"
   ]
  },
  {
   "cell_type": "code",
   "execution_count": 25,
   "metadata": {
    "collapsed": false
   },
   "outputs": [
    {
     "name": "stdout",
     "output_type": "stream",
     "text": [
      "Granger causality wald-test\n",
      "=======================================================\n",
      "   Test statistic   Critical Value          p-value  df\n",
      "-------------------------------------------------------\n",
      "         7.911412         9.487729            0.095   4\n",
      "=======================================================\n",
      "H_0: ['rgbp', 'rjpy'] do not Granger-cause reur\n",
      "Conclusion: fail to reject H_0 at 5.00% significance level\n"
     ]
    },
    {
     "data": {
      "text/plain": [
       "{'conclusion': 'fail to reject',\n",
       " 'crit_value': 9.487729036781154,\n",
       " 'df': 4,\n",
       " 'pvalue': 0.094877710792649839,\n",
       " 'signif': 0.05,\n",
       " 'statistic': 7.9114122791070489}"
      ]
     },
     "execution_count": 25,
     "metadata": {},
     "output_type": "execute_result"
    }
   ],
   "source": [
    "results.test_causality('reur', ['rgbp', 'rjpy'], kind='wald')   \n",
    "\n",
    "# 然後是做Granger causality ,這個寫法代表 'GBP', 'JPY' 對 'EUR'\n",
    "# 但是他原本預設是做 f-test ,所以我們要在後面將 kind='wald'\n",
    "# 就是指定做  wald test"
   ]
  },
  {
   "cell_type": "code",
   "execution_count": 26,
   "metadata": {
    "collapsed": false
   },
   "outputs": [
    {
     "name": "stdout",
     "output_type": "stream",
     "text": [
      "Granger causality wald-test\n",
      "=======================================================\n",
      "   Test statistic   Critical Value          p-value  df\n",
      "-------------------------------------------------------\n",
      "        28.045230         9.487729            0.000   4\n",
      "=======================================================\n",
      "H_0: ['reur', 'rjpy'] do not Granger-cause rgbp\n",
      "Conclusion: reject H_0 at 5.00% significance level\n"
     ]
    },
    {
     "data": {
      "text/plain": [
       "{'conclusion': 'reject',\n",
       " 'crit_value': 9.487729036781154,\n",
       " 'df': 4,\n",
       " 'pvalue': 1.2212404736466893e-05,\n",
       " 'signif': 0.05,\n",
       " 'statistic': 28.0452301574838}"
      ]
     },
     "execution_count": 26,
     "metadata": {},
     "output_type": "execute_result"
    }
   ],
   "source": [
    "results.test_causality('rgbp', ['reur', 'rjpy'], kind='wald') \n",
    "\n",
    "# 其他的Granger causality ,這個寫法代表 'EUR', 'JPY' 對 'GBP'\n",
    "# 但是他原本預設是做 f-test ,所以我們要在後面將 kind='wald'\n",
    "# 就是指定做  wald test\n",
    "#  Granger causality 示範先這樣"
   ]
  },
  {
   "cell_type": "code",
   "execution_count": 28,
   "metadata": {
    "collapsed": false
   },
   "outputs": [
    {
     "data": {
      "image/png": "[encoded data removed]",
      "text/plain": [
       "<matplotlib.figure.Figure at 0x1acfa01c518>"
      ]
     },
     "metadata": {},
     "output_type": "display_data"
    }
   ],
   "source": [
    "irf = results.irf(3)\n",
    "irf.plot(orth=False)\n",
    "plt.show()\n",
    "\n",
    "# 接著作 Impulse Response Analysis ,因為irf本身是個惰性函數\n",
    "# 所以我們做出來之後把他指定為一個變數,然後讓這個變數畫出來"
   ]
  },
  {
   "cell_type": "code",
   "execution_count": 29,
   "metadata": {
    "collapsed": false
   },
   "outputs": [
    {
     "name": "stdout",
     "output_type": "stream",
     "text": [
      "FEVD for reur\n",
      "         reur      rgbp      rjpy\n",
      "0    1.000000  0.000000  0.000000\n",
      "1    0.998118  0.001524  0.000358\n",
      "2    0.998115  0.001526  0.000359\n",
      "\n",
      "FEVD for rgbp\n",
      "         reur      rgbp      rjpy\n",
      "0    0.489516  0.510484  0.000000\n",
      "1    0.478169  0.518544  0.003287\n",
      "2    0.478141  0.518184  0.003675\n",
      "\n",
      "FEVD for rjpy\n",
      "         reur      rgbp      rjpy\n",
      "0    0.077630  0.001328  0.921042\n",
      "1    0.076305  0.003773  0.919922\n",
      "2    0.076360  0.003771  0.919868\n",
      "\n",
      "\n"
     ]
    }
   ],
   "source": [
    "fevd = results.fevd(3)                    \n",
    "fevd.summary()                            \n",
    "\n",
    "# 然後是老師說下次可能會做的 FEVD ,先附上,有更新再改\n",
    "# 如果我有漏掉什麼或是哪部分講的不清楚麻煩跟我講,我會再修正\n",
    "# 感謝大家\n",
    "# by the way,現在用的檔案是老師新上傳的,不知道的人可以去信箱看看"
   ]
  },
  {
   "cell_type": "code",
   "execution_count": null,
   "metadata": {
    "collapsed": false
   },
   "outputs": [],
   "source": []
  },
  {
   "cell_type": "code",
   "execution_count": null,
   "metadata": {
    "collapsed": true
   },
   "outputs": [],
   "source": []
  }
 ],
 "metadata": {
  "anaconda-cloud": {},
  "kernelspec": {
   "display_name": "Python [conda root]",
   "language": "python",
   "name": "conda-root-py"
  },
  "language_info": {
   "codemirror_mode": {
    "name": "ipython",
    "version": 3
   },
   "file_extension": ".py",
   "mimetype": "text/x-python",
   "name": "python",
   "nbconvert_exporter": "python",
   "pygments_lexer": "ipython3",
   "version": "3.5.2"
  }
 },
 "nbformat": 4,
 "nbformat_minor": 1
}
